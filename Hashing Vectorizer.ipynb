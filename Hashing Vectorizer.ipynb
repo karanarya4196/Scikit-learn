{
 "cells": [
  {
   "cell_type": "markdown",
   "metadata": {},
   "source": [
    "# Hashing Vectorizer"
   ]
  },
  {
   "cell_type": "markdown",
   "metadata": {},
   "source": [
    "Create a text document:"
   ]
  },
  {
   "cell_type": "code",
   "execution_count": 6,
   "metadata": {},
   "outputs": [],
   "source": [
    "text = [\"I love my cat but the cat sat on my face\"]"
   ]
  },
  {
   "cell_type": "code",
   "execution_count": null,
   "metadata": {},
   "outputs": [],
   "source": []
  },
  {
   "cell_type": "code",
   "execution_count": 7,
   "metadata": {},
   "outputs": [
    {
     "name": "stdout",
     "output_type": "stream",
     "text": [
      "(1, 20)\n",
      "[[ 0.26726124 -0.26726124  0.26726124  0.          0.          0.\n",
      "   0.          0.          0.          0.          0.53452248 -0.26726124\n",
      "   0.          0.          0.         -0.26726124  0.          0.\n",
      "  -0.26726124  0.53452248]]\n"
     ]
    }
   ],
   "source": [
    "from sklearn.feature_extraction.text import HashingVectorizer\n",
    "\n",
    "\n",
    "# create the transform\n",
    "vectorizer = HashingVectorizer(n_features=20)\n",
    "# encode document\n",
    "vector = vectorizer.transform(text)\n",
    "# summarize encoded vector\n",
    "print(vector.shape)\n",
    "print(vector.toarray())\n"
   ]
  },
  {
   "cell_type": "code",
   "execution_count": 9,
   "metadata": {},
   "outputs": [
    {
     "name": "stdout",
     "output_type": "stream",
     "text": [
      "(4, 20)\n",
      "[[ 0.          0.          0.4472136   0.          0.          0.\n",
      "   0.          0.          0.          0.          0.          0.\n",
      "  -0.4472136   0.          0.          0.         -0.4472136   0.4472136\n",
      "  -0.4472136   0.        ]\n",
      " [ 0.          0.          0.35355339  0.          0.          0.\n",
      "   0.          0.          0.          0.          0.          0.\n",
      "  -0.70710678  0.          0.          0.35355339  0.          0.35355339\n",
      "  -0.35355339  0.        ]\n",
      " [ 0.          0.40824829  0.40824829  0.         -0.40824829 -0.40824829\n",
      "   0.          0.          0.          0.          0.          0.\n",
      "   0.          0.          0.          0.          0.          0.40824829\n",
      "  -0.40824829  0.        ]\n",
      " [ 0.          0.          0.4472136   0.          0.          0.\n",
      "   0.          0.          0.          0.          0.          0.\n",
      "  -0.4472136   0.          0.          0.         -0.4472136   0.4472136\n",
      "  -0.4472136   0.        ]]\n"
     ]
    }
   ],
   "source": [
    "from sklearn.feature_extraction.text import HashingVectorizer\n",
    "corpus = [\n",
    "    'This is the first document.',\n",
    "    'This document is the second document.',\n",
    "    'And this is the third one.',\n",
    "    'Is this the first document?',\n",
    "]\n",
    "vectorizer = HashingVectorizer(n_features=20)\n",
    "X = vectorizer.fit_transform(corpus)\n",
    "print(X.shape)\n",
    "print(X.toarray())"
   ]
  },
  {
   "cell_type": "code",
   "execution_count": null,
   "metadata": {},
   "outputs": [],
   "source": []
  }
 ],
 "metadata": {
  "kernelspec": {
   "display_name": "Python 3",
   "language": "python",
   "name": "python3"
  },
  "language_info": {
   "codemirror_mode": {
    "name": "ipython",
    "version": 3
   },
   "file_extension": ".py",
   "mimetype": "text/x-python",
   "name": "python",
   "nbconvert_exporter": "python",
   "pygments_lexer": "ipython3",
   "version": "3.6.6"
  }
 },
 "nbformat": 4,
 "nbformat_minor": 2
}
