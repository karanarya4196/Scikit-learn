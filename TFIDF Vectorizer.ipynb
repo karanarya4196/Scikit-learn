{
 "cells": [
  {
   "cell_type": "markdown",
   "metadata": {},
   "source": [
    "# TFIDF Vectorizer"
   ]
  },
  {
   "cell_type": "markdown",
   "metadata": {},
   "source": [
    "In simple words, TFIDF is a numerical statistic that shows the importance of a word in a text document."
   ]
  },
  {
   "cell_type": "markdown",
   "metadata": {},
   "source": [
    "We create two text documents as follows:"
   ]
  },
  {
   "cell_type": "code",
   "execution_count": 54,
   "metadata": {},
   "outputs": [],
   "source": [
    "text1 = \"I love my cat but the cat sat on my face\"\n",
    "text2 = \"I love my dog but the dog sat on my bed\""
   ]
  },
  {
   "cell_type": "markdown",
   "metadata": {},
   "source": [
    "## Word Tokenization"
   ]
  },
  {
   "cell_type": "code",
   "execution_count": 55,
   "metadata": {},
   "outputs": [],
   "source": [
    "words1 = text1.split(\" \")\n",
    "words2 = text2.split(\" \")"
   ]
  },
  {
   "cell_type": "code",
   "execution_count": 56,
   "metadata": {},
   "outputs": [
    {
     "name": "stdout",
     "output_type": "stream",
     "text": [
      "['I', 'love', 'my', 'cat', 'but', 'the', 'cat', 'sat', 'on', 'my', 'face']\n"
     ]
    }
   ],
   "source": [
    "print(words1)"
   ]
  },
  {
   "cell_type": "markdown",
   "metadata": {},
   "source": [
    "## Combining the Words into a Single Set"
   ]
  },
  {
   "cell_type": "code",
   "execution_count": 57,
   "metadata": {},
   "outputs": [
    {
     "name": "stdout",
     "output_type": "stream",
     "text": [
      "{'bed', 'but', 'sat', 'love', 'cat', 'my', 'face', 'the', 'I', 'dog', 'on'}\n"
     ]
    }
   ],
   "source": [
    "corpus = set(words1).union(set(words2))\n",
    "print(corpus)"
   ]
  },
  {
   "cell_type": "markdown",
   "metadata": {},
   "source": [
    "## TFIDF Vectorization"
   ]
  },
  {
   "cell_type": "code",
   "execution_count": 60,
   "metadata": {},
   "outputs": [
    {
     "data": {
      "text/html": [
       "<style  type=\"text/css\" >\n",
       "</style>  \n",
       "<table id=\"T_fed079ae_08d5_11e9_9609_106530649311\" > \n",
       "<thead>    <tr> \n",
       "        <th class=\"blank level0\" ></th> \n",
       "        <th class=\"col_heading level0 col0\" >I love my cat but the cat sat on my face</th> \n",
       "        <th class=\"col_heading level0 col1\" >I love my dog but the dog sat on my bed</th> \n",
       "    </tr></thead> \n",
       "<tbody>    <tr> \n",
       "        <th id=\"T_fed079ae_08d5_11e9_9609_106530649311level0_row0\" class=\"row_heading level0 row0\" >bed</th> \n",
       "        <td id=\"T_fed079ae_08d5_11e9_9609_106530649311row0_col0\" class=\"data row0 col0\" >0</td> \n",
       "        <td id=\"T_fed079ae_08d5_11e9_9609_106530649311row0_col1\" class=\"data row0 col1\" >0.323487</td> \n",
       "    </tr>    <tr> \n",
       "        <th id=\"T_fed079ae_08d5_11e9_9609_106530649311level0_row1\" class=\"row_heading level0 row1\" >but</th> \n",
       "        <td id=\"T_fed079ae_08d5_11e9_9609_106530649311row1_col0\" class=\"data row1 col0\" >0.230164</td> \n",
       "        <td id=\"T_fed079ae_08d5_11e9_9609_106530649311row1_col1\" class=\"data row1 col1\" >0.230164</td> \n",
       "    </tr>    <tr> \n",
       "        <th id=\"T_fed079ae_08d5_11e9_9609_106530649311level0_row2\" class=\"row_heading level0 row2\" >cat</th> \n",
       "        <td id=\"T_fed079ae_08d5_11e9_9609_106530649311row2_col0\" class=\"data row2 col0\" >0.646975</td> \n",
       "        <td id=\"T_fed079ae_08d5_11e9_9609_106530649311row2_col1\" class=\"data row2 col1\" >0</td> \n",
       "    </tr>    <tr> \n",
       "        <th id=\"T_fed079ae_08d5_11e9_9609_106530649311level0_row3\" class=\"row_heading level0 row3\" >dog</th> \n",
       "        <td id=\"T_fed079ae_08d5_11e9_9609_106530649311row3_col0\" class=\"data row3 col0\" >0</td> \n",
       "        <td id=\"T_fed079ae_08d5_11e9_9609_106530649311row3_col1\" class=\"data row3 col1\" >0.646975</td> \n",
       "    </tr>    <tr> \n",
       "        <th id=\"T_fed079ae_08d5_11e9_9609_106530649311level0_row4\" class=\"row_heading level0 row4\" >face</th> \n",
       "        <td id=\"T_fed079ae_08d5_11e9_9609_106530649311row4_col0\" class=\"data row4 col0\" >0.323487</td> \n",
       "        <td id=\"T_fed079ae_08d5_11e9_9609_106530649311row4_col1\" class=\"data row4 col1\" >0</td> \n",
       "    </tr>    <tr> \n",
       "        <th id=\"T_fed079ae_08d5_11e9_9609_106530649311level0_row5\" class=\"row_heading level0 row5\" >love</th> \n",
       "        <td id=\"T_fed079ae_08d5_11e9_9609_106530649311row5_col0\" class=\"data row5 col0\" >0.230164</td> \n",
       "        <td id=\"T_fed079ae_08d5_11e9_9609_106530649311row5_col1\" class=\"data row5 col1\" >0.230164</td> \n",
       "    </tr>    <tr> \n",
       "        <th id=\"T_fed079ae_08d5_11e9_9609_106530649311level0_row6\" class=\"row_heading level0 row6\" >my</th> \n",
       "        <td id=\"T_fed079ae_08d5_11e9_9609_106530649311row6_col0\" class=\"data row6 col0\" >0.460328</td> \n",
       "        <td id=\"T_fed079ae_08d5_11e9_9609_106530649311row6_col1\" class=\"data row6 col1\" >0.460328</td> \n",
       "    </tr>    <tr> \n",
       "        <th id=\"T_fed079ae_08d5_11e9_9609_106530649311level0_row7\" class=\"row_heading level0 row7\" >on</th> \n",
       "        <td id=\"T_fed079ae_08d5_11e9_9609_106530649311row7_col0\" class=\"data row7 col0\" >0.230164</td> \n",
       "        <td id=\"T_fed079ae_08d5_11e9_9609_106530649311row7_col1\" class=\"data row7 col1\" >0.230164</td> \n",
       "    </tr>    <tr> \n",
       "        <th id=\"T_fed079ae_08d5_11e9_9609_106530649311level0_row8\" class=\"row_heading level0 row8\" >sat</th> \n",
       "        <td id=\"T_fed079ae_08d5_11e9_9609_106530649311row8_col0\" class=\"data row8 col0\" >0.230164</td> \n",
       "        <td id=\"T_fed079ae_08d5_11e9_9609_106530649311row8_col1\" class=\"data row8 col1\" >0.230164</td> \n",
       "    </tr>    <tr> \n",
       "        <th id=\"T_fed079ae_08d5_11e9_9609_106530649311level0_row9\" class=\"row_heading level0 row9\" >the</th> \n",
       "        <td id=\"T_fed079ae_08d5_11e9_9609_106530649311row9_col0\" class=\"data row9 col0\" >0.230164</td> \n",
       "        <td id=\"T_fed079ae_08d5_11e9_9609_106530649311row9_col1\" class=\"data row9 col1\" >0.230164</td> \n",
       "    </tr></tbody> \n",
       "</table> "
      ],
      "text/plain": [
       "<pandas.io.formats.style.Styler at 0x280b356f588>"
      ]
     },
     "execution_count": 60,
     "metadata": {},
     "output_type": "execute_result"
    }
   ],
   "source": [
    "from sklearn.feature_extraction.text import TfidfVectorizer\n",
    "vectorizer = TfidfVectorizer()\n",
    "\n",
    "corpus = [\"I love my cat but the cat sat on my face\", \"I love my dog but the dog sat on my bed\"]\n",
    "\n",
    "X = vectorizer.fit_transform(corpus)\n",
    "feature_names = vectorizer.get_feature_names()\n",
    "corpus_index = [n for n in corpus]\n",
    "\n",
    "import pandas as pd\n",
    "df = pd.DataFrame(X.T.todense(), index = feature_names, columns = corpus_index)\n",
    "df.style"
   ]
  },
  {
   "cell_type": "markdown",
   "metadata": {},
   "source": [
    "It is seen that the words 'cat', 'my' and 'face' are the most important features in the first sentence.\n",
    "And, words 'dog', 'my' and 'bed' are important features in the second sentence."
   ]
  }
 ],
 "metadata": {
  "kernelspec": {
   "display_name": "Python 3",
   "language": "python",
   "name": "python3"
  },
  "language_info": {
   "codemirror_mode": {
    "name": "ipython",
    "version": 3
   },
   "file_extension": ".py",
   "mimetype": "text/x-python",
   "name": "python",
   "nbconvert_exporter": "python",
   "pygments_lexer": "ipython3",
   "version": "3.6.6"
  }
 },
 "nbformat": 4,
 "nbformat_minor": 2
}
